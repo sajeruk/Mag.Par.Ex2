{
 "cells": [
  {
   "cell_type": "markdown",
   "metadata": {},
   "source": [
    "###   1.Анализ производительности graph-500 на локальной машине\n"
   ]
  },
  {
   "cell_type": "markdown",
   "metadata": {},
   "source": [
    "Определимся сначала с параметрами теста. В ходе предварительных запусков, оказалось, что на локальной машинке с 4 процессорами увеличение SСALE приводит к колоссальному увеличению времени работы (т.е. для 26 16 - всего лишь Toy размер, дождаться окончания хоть одной итерации не удалось). В итоге, я остановился на стандартном размере SCALE:16 EDGE_FACTOR:16 и запускал mpi-версию в 4 потока:<br/>\n",
    "&nbsp;&nbsp;&nbsp;&nbsp;<b>mpi-run -np 4 ./graph500_mpi_simple 16 16</b><br>\n",
    "В результате, по итогам 64 итераций:"
   ]
  },
  {
   "cell_type": "markdown",
   "metadata": {},
   "source": [
    "<\"SCALE:                          16\\n\"\n",
    "\"edgefactor:                     1\\n6\n",
    "\"NBFS:                           64\\n\"\n",
    "graph_generation:               0.546302\n",
    "num_mpi_processes:              4\n",
    "construction_time:              0.144039\n",
    "min_time:                       0.147475\n",
    "firstquartile_time:             0.179075\n",
    "median_time:                    0.183782\n",
    "thirdquartile_time:             0.188256\n",
    "max_time:                       0.232297\n",
    "mean_time:                      0.183914\n",
    "stddev_time:                    0.0144824\n",
    "min_nedge:                      1048570\n",
    "firstquartile_nedge:            1048570\n",
    "median_nedge:                   1048570\n",
    "thirdquartile_nedge:            1048570\n",
    "max_nedge:                      1048570\n",
    "mean_nedge:                     1048570\n",
    "stddev_nedge:                   0\n",
    "min_TEPS:                       4.51393e+06\n",
    "firstquartile_TEPS:             5.56993e+06\n",
    "median_TEPS:                    5.7055e+06\n",
    "thirdquartile_TEPS:             5.85547e+06\n",
    "max_TEPS:                       7.11013e+06\n",
    "harmonic_mean_TEPS:             5.70142e+06\n",
    "harmonic_stddev_TEPS:           56563.9\n",
    "min_validate:                   3.30918\n",
    "firstquartile_validate:         3.99619\n",
    "median_validate:                4.10362\n",
    "thirdquartile_validate:         4.21789\n",
    "max_validate:                   4.51817\n",
    "mean_validate:                  4.08953\n",
    "stddev_validate:                0.234609"
   ]
  },
  {
   "cell_type": "markdown",
   "metadata": {},
   "source": [
    "То есть, по итогам теста, производительность составила: <b>median_TEPS: 5.7055e+06</b>, то есть <b>0.0057055 GTEPS</b>, что в 4 раза хуже последнего (192) места в рейтинге http://www.graph500.org/results_jul_2015\n"
   ]
  },
  {
   "cell_type": "markdown",
   "metadata": {
    "collapsed": true
   },
   "source": [
    "### 3. Определение параметров графа Кронекера"
   ]
  },
  {
   "cell_type": "markdown",
   "metadata": {},
   "source": [
    "&nbsp;&nbsp;&nbsp;&nbsp;Для того, чтобы определить параметры графа, требуется сперва выписать все его рёбра. Возьмём за основу программку <b>make-edgelist</b> (компонент graph-500 reference code) и слегка её модифицируем: [make-edgelist.c](make-edgelist.c)<br>\n",
    "&nbsp;&nbsp;&nbsp;&nbsp;В результате, от исходного назначения утилиты не осталось и следа и в stdout она выводит данные в следующем формате:"
   ]
  },
  {
   "cell_type": "raw",
   "metadata": {},
   "source": [
    "SCALE, 2^16 - 1\n",
    "v1 v2\n",
    "v3 v4\n",
    "....."
   ]
  },
  {
   "cell_type": "markdown",
   "metadata": {},
   "source": [
    "Заметим, что при генерации графа мы будем использовать параметры: scale=10 и edge_factor=16"
   ]
  },
  {
   "cell_type": "raw",
   "metadata": {},
   "source": [
    "./graph500-2.1.4/make-edgelist -s 10 -e 16 > graph.10-16.data"
   ]
  },
  {
   "cell_type": "markdown",
   "metadata": {},
   "source": [
    "Теперь проанализируем параметры этого графа, считав [graph.10-16.data](graph.10-16.data) для этого воспользуемся библиотекой <b>NetworkX</b>"
   ]
  },
  {
   "cell_type": "code",
   "execution_count": 123,
   "metadata": {
    "collapsed": true
   },
   "outputs": [],
   "source": [
    "import networkx as nx"
   ]
  },
  {
   "cell_type": "code",
   "execution_count": 124,
   "metadata": {
    "collapsed": true
   },
   "outputs": [],
   "source": [
    "def graph_from_file(filename):\n",
    "    DG = nx.DiGraph()\n",
    "    with open(filename, 'r') as file:\n",
    "        header = file.readline()\n",
    "        scale, N = map(int, header.strip().split())\n",
    "        # DG.add_nodes_from(range(N))\n",
    "        for line in file:\n",
    "            DG.add_edge(*map(int, line.strip().split()))\n",
    "    return DG"
   ]
  },
  {
   "cell_type": "code",
   "execution_count": 125,
   "metadata": {
    "collapsed": false
   },
   "outputs": [],
   "source": [
    "graph = graph_from_file('graph.10-16.data')"
   ]
  },
  {
   "cell_type": "code",
   "execution_count": 126,
   "metadata": {
    "collapsed": false
   },
   "outputs": [
    {
     "data": {
      "text/plain": [
       "(887, 10652)"
      ]
     },
     "execution_count": 126,
     "metadata": {},
     "output_type": "execute_result"
    }
   ],
   "source": [
    "graph.number_of_nodes(), graph.number_of_edges()"
   ]
  },
  {
   "cell_type": "markdown",
   "metadata": {},
   "source": [
    "Теперь посчитаем первую интересующую нас характеристику - диаметр графа:"
   ]
  },
  {
   "cell_type": "code",
   "execution_count": 127,
   "metadata": {
    "collapsed": false
   },
   "outputs": [
    {
     "ename": "NetworkXError",
     "evalue": "Graph not connected: infinite path length",
     "output_type": "error",
     "traceback": [
      "\u001b[1;31m---------------------------------------------------------------------------\u001b[0m",
      "\u001b[1;31mNetworkXError\u001b[0m                             Traceback (most recent call last)",
      "\u001b[1;32m<ipython-input-127-8a17a86d594e>\u001b[0m in \u001b[0;36m<module>\u001b[1;34m()\u001b[0m\n\u001b[1;32m----> 1\u001b[1;33m \u001b[0mnx\u001b[0m\u001b[1;33m.\u001b[0m\u001b[0mdiameter\u001b[0m\u001b[1;33m(\u001b[0m\u001b[0mgraph\u001b[0m\u001b[1;33m)\u001b[0m\u001b[1;33m\u001b[0m\u001b[0m\n\u001b[0m",
      "\u001b[1;32m/home/mbusel/miniconda/envs/sh-python3/lib/python3.4/site-packages/networkx/algorithms/distance_measures.py\u001b[0m in \u001b[0;36mdiameter\u001b[1;34m(G, e)\u001b[0m\n\u001b[0;32m     94\u001b[0m     \"\"\"\n\u001b[0;32m     95\u001b[0m     \u001b[1;32mif\u001b[0m \u001b[0me\u001b[0m \u001b[1;32mis\u001b[0m \u001b[1;32mNone\u001b[0m\u001b[1;33m:\u001b[0m\u001b[1;33m\u001b[0m\u001b[0m\n\u001b[1;32m---> 96\u001b[1;33m         \u001b[0me\u001b[0m\u001b[1;33m=\u001b[0m\u001b[0meccentricity\u001b[0m\u001b[1;33m(\u001b[0m\u001b[0mG\u001b[0m\u001b[1;33m)\u001b[0m\u001b[1;33m\u001b[0m\u001b[0m\n\u001b[0m\u001b[0;32m     97\u001b[0m     \u001b[1;32mreturn\u001b[0m \u001b[0mmax\u001b[0m\u001b[1;33m(\u001b[0m\u001b[0me\u001b[0m\u001b[1;33m.\u001b[0m\u001b[0mvalues\u001b[0m\u001b[1;33m(\u001b[0m\u001b[1;33m)\u001b[0m\u001b[1;33m)\u001b[0m\u001b[1;33m\u001b[0m\u001b[0m\n\u001b[0;32m     98\u001b[0m \u001b[1;33m\u001b[0m\u001b[0m\n",
      "\u001b[1;32m/home/mbusel/miniconda/envs/sh-python3/lib/python3.4/site-packages/networkx/algorithms/distance_measures.py\u001b[0m in \u001b[0;36meccentricity\u001b[1;34m(G, v, sp)\u001b[0m\n\u001b[0;32m     61\u001b[0m         \u001b[1;32mif\u001b[0m \u001b[0mL\u001b[0m \u001b[1;33m!=\u001b[0m \u001b[0morder\u001b[0m\u001b[1;33m:\u001b[0m\u001b[1;33m\u001b[0m\u001b[0m\n\u001b[0;32m     62\u001b[0m             \u001b[0mmsg\u001b[0m \u001b[1;33m=\u001b[0m \u001b[1;34m\"Graph not connected: infinite path length\"\u001b[0m\u001b[1;33m\u001b[0m\u001b[0m\n\u001b[1;32m---> 63\u001b[1;33m             \u001b[1;32mraise\u001b[0m \u001b[0mnetworkx\u001b[0m\u001b[1;33m.\u001b[0m\u001b[0mNetworkXError\u001b[0m\u001b[1;33m(\u001b[0m\u001b[0mmsg\u001b[0m\u001b[1;33m)\u001b[0m\u001b[1;33m\u001b[0m\u001b[0m\n\u001b[0m\u001b[0;32m     64\u001b[0m \u001b[1;33m\u001b[0m\u001b[0m\n\u001b[0;32m     65\u001b[0m         \u001b[0me\u001b[0m\u001b[1;33m[\u001b[0m\u001b[0mn\u001b[0m\u001b[1;33m]\u001b[0m\u001b[1;33m=\u001b[0m\u001b[0mmax\u001b[0m\u001b[1;33m(\u001b[0m\u001b[0mlength\u001b[0m\u001b[1;33m.\u001b[0m\u001b[0mvalues\u001b[0m\u001b[1;33m(\u001b[0m\u001b[1;33m)\u001b[0m\u001b[1;33m)\u001b[0m\u001b[1;33m\u001b[0m\u001b[0m\n",
      "\u001b[1;31mNetworkXError\u001b[0m: Graph not connected: infinite path length"
     ]
    }
   ],
   "source": [
    "nx.diameter(graph)"
   ]
  },
  {
   "cell_type": "markdown",
   "metadata": {},
   "source": [
    "Наш граф - несвязный! В таком случае, попробуем разбить его на компоненты свзяности. Средствами NetworkX разобьем его на слабосвязные компоненты - так получим более адекватное представление о связях в нём"
   ]
  },
  {
   "cell_type": "code",
   "execution_count": 128,
   "metadata": {
    "collapsed": false
   },
   "outputs": [
    {
     "data": {
      "text/plain": [
       "True"
      ]
     },
     "execution_count": 128,
     "metadata": {},
     "output_type": "execute_result"
    }
   ],
   "source": [
    "nx.is_weakly_connected(graph)"
   ]
  },
  {
   "cell_type": "code",
   "execution_count": 129,
   "metadata": {
    "collapsed": false
   },
   "outputs": [
    {
     "data": {
      "text/plain": [
       "True"
      ]
     },
     "execution_count": 129,
     "metadata": {},
     "output_type": "execute_result"
    }
   ],
   "source": [
    "nx.number_strongly_connected_components(graph) == graph.order()"
   ]
  },
  {
   "cell_type": "markdown",
   "metadata": {},
   "source": [
    "Но тогда попробуем посчитать \"Почти диаметр\" - максимальный путь != inf"
   ]
  },
  {
   "cell_type": "code",
   "execution_count": 130,
   "metadata": {
    "collapsed": true
   },
   "outputs": [],
   "source": [
    "def eccentricity_finite(G):\n",
    "    \"\"\"Return the eccentricity of nodes in G.\n",
    "\n",
    "    The eccentricity of a node v is the maximum distance from v to\n",
    "    all other nodes in G. Ignore infinite\n",
    "    \"\"\"\n",
    "    order=G.order()\n",
    "\n",
    "    e={}\n",
    "    for n in G.nbunch_iter():\n",
    "        length=nx.single_source_shortest_path_length(G,n)            \n",
    "        e[n]=max(length.values())\n",
    "    return e"
   ]
  },
  {
   "cell_type": "code",
   "execution_count": 131,
   "metadata": {
    "collapsed": true
   },
   "outputs": [],
   "source": [
    "def diameter(G):\n",
    "    return max(eccentricity_finite(G).values())"
   ]
  },
  {
   "cell_type": "code",
   "execution_count": 132,
   "metadata": {
    "collapsed": false
   },
   "outputs": [
    {
     "data": {
      "text/plain": [
       "9"
      ]
     },
     "execution_count": 132,
     "metadata": {},
     "output_type": "execute_result"
    }
   ],
   "source": [
    "diameter(graph)"
   ]
  },
  {
   "cell_type": "markdown",
   "metadata": {},
   "source": [
    "Аналогично посчитаем среднее расстояние между вершинами"
   ]
  },
  {
   "cell_type": "code",
   "execution_count": 133,
   "metadata": {
    "collapsed": true
   },
   "outputs": [],
   "source": [
    "def avg_path_len(G):\n",
    "    numOfPath = 0\n",
    "    sumPathLen = 0\n",
    "    for n in G.nbunch_iter():\n",
    "        length = nx.single_source_shortest_path_length(G,n)            \n",
    "        sumPathLen += sum(length.values())\n",
    "        numOfPath += len(length)\n",
    "    return float(sumPathLen) / numOfPath"
   ]
  },
  {
   "cell_type": "code",
   "execution_count": 134,
   "metadata": {
    "collapsed": false
   },
   "outputs": [
    {
     "ename": "TypeError",
     "evalue": "unsupported operand type(s) for +=: 'int' and 'dict_values'",
     "output_type": "error",
     "traceback": [
      "\u001b[1;31m---------------------------------------------------------------------------\u001b[0m",
      "\u001b[1;31mTypeError\u001b[0m                                 Traceback (most recent call last)",
      "\u001b[1;32m<ipython-input-134-0a2b8e337496>\u001b[0m in \u001b[0;36m<module>\u001b[1;34m()\u001b[0m\n\u001b[1;32m----> 1\u001b[1;33m \u001b[0mavg_path_len\u001b[0m\u001b[1;33m(\u001b[0m\u001b[0mgraph\u001b[0m\u001b[1;33m)\u001b[0m\u001b[1;33m\u001b[0m\u001b[0m\n\u001b[0m",
      "\u001b[1;32m<ipython-input-133-2a0db6243b1f>\u001b[0m in \u001b[0;36mavg_path_len\u001b[1;34m(G)\u001b[0m\n\u001b[0;32m      4\u001b[0m     \u001b[1;32mfor\u001b[0m \u001b[0mn\u001b[0m \u001b[1;32min\u001b[0m \u001b[0mG\u001b[0m\u001b[1;33m.\u001b[0m\u001b[0mnbunch_iter\u001b[0m\u001b[1;33m(\u001b[0m\u001b[1;33m)\u001b[0m\u001b[1;33m:\u001b[0m\u001b[1;33m\u001b[0m\u001b[0m\n\u001b[0;32m      5\u001b[0m         \u001b[0mlength\u001b[0m \u001b[1;33m=\u001b[0m \u001b[0mnx\u001b[0m\u001b[1;33m.\u001b[0m\u001b[0msingle_source_shortest_path_length\u001b[0m\u001b[1;33m(\u001b[0m\u001b[0mG\u001b[0m\u001b[1;33m,\u001b[0m\u001b[0mn\u001b[0m\u001b[1;33m)\u001b[0m\u001b[1;33m\u001b[0m\u001b[0m\n\u001b[1;32m----> 6\u001b[1;33m         \u001b[0msumPathLen\u001b[0m \u001b[1;33m+=\u001b[0m \u001b[0msum\u001b[0m\u001b[1;33m(\u001b[0m\u001b[0mlength\u001b[0m\u001b[1;33m.\u001b[0m\u001b[0mvalues\u001b[0m\u001b[1;33m(\u001b[0m\u001b[1;33m)\u001b[0m\u001b[1;33m)\u001b[0m\u001b[1;33m\u001b[0m\u001b[0m\n\u001b[0m\u001b[0;32m      7\u001b[0m         \u001b[0mnumOfPath\u001b[0m \u001b[1;33m+=\u001b[0m \u001b[0mlen\u001b[0m\u001b[1;33m(\u001b[0m\u001b[0mlength\u001b[0m\u001b[1;33m)\u001b[0m\u001b[1;33m\u001b[0m\u001b[0m\n\u001b[0;32m      8\u001b[0m     \u001b[1;32mreturn\u001b[0m \u001b[0mfloat\u001b[0m\u001b[1;33m(\u001b[0m\u001b[0msumPathLen\u001b[0m\u001b[1;33m)\u001b[0m \u001b[1;33m/\u001b[0m \u001b[0mnumOfPath\u001b[0m\u001b[1;33m\u001b[0m\u001b[0m\n",
      "\u001b[1;31mTypeError\u001b[0m: unsupported operand type(s) for +=: 'int' and 'dict_values'"
     ]
    }
   ],
   "source": [
    "avg_path_len(graph)"
   ]
  },
  {
   "cell_type": "markdown",
   "metadata": {},
   "source": [
    "И построим гистограмму #(n,d)"
   ]
  },
  {
   "cell_type": "code",
   "execution_count": 141,
   "metadata": {
    "collapsed": false
   },
   "outputs": [],
   "source": [
    "from collections import Counter\n",
    "import pylab\n",
    "import operator\n",
    "\n",
    "def printGraphDegreeDistribution(gr):\n",
    "    cnt = Counter()\n",
    "    for v in gr.degree().values():\n",
    "        cnt[v] += 1\n",
    "    #sorted_cnt = sorted(cnt.items(), key=operator.itemgetter(0))\n",
    "    max_degree = max(list(cnt.keys()))\n",
    "    out_bins = []\n",
    "    out_values = []\n",
    "    for i in range(1, max_degree + 1):\n",
    "        out_bins.append(i)\n",
    "        out_values.append(cnt[i])\n",
    "    pylab.plot(out_bins, out_values)\n",
    "    pylab.xlabel('degree')\n",
    "    pylab.ylabel('number')\n",
    "    pylab.xticks(range(1, max_degree + 1, 9))"
   ]
  },
  {
   "cell_type": "code",
   "execution_count": 142,
   "metadata": {
    "collapsed": false
   },
   "outputs": [
    {
     "name": "stdout",
     "output_type": "stream",
     "text": [
      "Populating the interactive namespace from numpy and matplotlib\n"
     ]
    },
    {
     "name": "stderr",
     "output_type": "stream",
     "text": [
      "WARNING: pylab import has clobbered these variables: ['pylab']\n",
      "`%matplotlib` prevents importing * from pylab and numpy\n"
     ]
    }
   ],
   "source": [
    "%pylab inline"
   ]
  },
  {
   "cell_type": "code",
   "execution_count": 144,
   "metadata": {
    "collapsed": false
   },
   "outputs": [
    {
     "data": {
      "image/png": "[encoded data removed]",
      "text/plain": [
       "<matplotlib.figure.Figure at 0x7f27c550a780>"
      ]
     },
     "metadata": {},
     "output_type": "display_data"
    }
   ],
   "source": [
    "from pylab import rcParams\n",
    "rcParams['figure.figsize'] = 20, 5\n",
    "\n",
    "printGraphDegreeDistribution(graph)"
   ]
  },
  {
   "cell_type": "markdown",
   "metadata": {},
   "source": [
    "По данному графику можно увидеть, что большинство связей имеют небольшую длину, что совпадает с мнением об адекватности использования графа кронекера для иллюстрации социальных связей"
   ]
  },
  {
   "cell_type": "code",
   "execution_count": null,
   "metadata": {
    "collapsed": true
   },
   "outputs": [],
   "source": []
  }
 ],
 "metadata": {
  "kernelspec": {
   "display_name": "Python 3",
   "language": "python",
   "name": "python3"
  },
  "language_info": {
   "codemirror_mode": {
    "name": "ipython",
    "version": 3
   },
   "file_extension": ".py",
   "mimetype": "text/x-python",
   "name": "python",
   "nbconvert_exporter": "python",
   "pygments_lexer": "ipython3",
   "version": "3.4.3"
  }
 },
 "nbformat": 4,
 "nbformat_minor": 0
}
