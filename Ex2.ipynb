{
 "cells": [
  {
   "cell_type": "markdown",
   "metadata": {},
   "source": [
    "####   1.Анализ производительности graph-500 на локальной машине\n"
   ]
  },
  {
   "cell_type": "markdown",
   "metadata": {},
   "source": [
    "Определимся сначала с параметрами теста. В ходе предварительных запусков, оказалось, что на локальной машинке с 4 процессорами увеличение SСALE приводит к колоссальному увеличению времени работы (т.е. для 26 16 - всего лишь Toy размер, дождаться окончания хоть одной итерации не удалось). В итоге, я остановился на стандартном размере SCALE:16 EDGE_FACTOR:16 и запускал mpi-версию в 4 потока:<br/>\n",
    "&nbsp;&nbsp;&nbsp;&nbsp;<b>mpi-run -np 4 ./graph500_mpi_simple 16 16</b><br>\n",
    "В результате, по итогам 64 итераций:"
   ]
  },
  {
   "cell_type": "markdown",
   "metadata": {},
   "source": [
    "<pre>SCALE:                          16\n",
    "edgefactor:                     16\n",
    "NBFS:                           64\n",
    "graph_generation:               0.546302\n",
    "num_mpi_processes:              4\n",
    "construction_time:              0.144039\n",
    "min_time:                       0.147475\n",
    "firstquartile_time:             0.179075\n",
    "median_time:                    0.183782\n",
    "thirdquartile_time:             0.188256\n",
    "max_time:                       0.232297\n",
    "mean_time:                      0.183914\n",
    "stddev_time:                    0.0144824\n",
    "min_nedge:                      1048570\n",
    "firstquartile_nedge:            1048570\n",
    "median_nedge:                   1048570\n",
    "thirdquartile_nedge:            1048570\n",
    "max_nedge:                      1048570\n",
    "mean_nedge:                     1048570\n",
    "stddev_nedge:                   0\n",
    "min_TEPS:                       4.51393e+06\n",
    "firstquartile_TEPS:             5.56993e+06\n",
    "median_TEPS:                    5.7055e+06\n",
    "thirdquartile_TEPS:             5.85547e+06\n",
    "max_TEPS:                       7.11013e+06\n",
    "harmonic_mean_TEPS:             5.70142e+06\n",
    "harmonic_stddev_TEPS:           56563.9\n",
    "min_validate:                   3.30918\n",
    "firstquartile_validate:         3.99619\n",
    "median_validate:                4.10362\n",
    "thirdquartile_validate:         4.21789\n",
    "max_validate:                   4.51817\n",
    "mean_validate:                  4.08953\n",
    "stddev_validate:                0.234609</pre>"
   ]
  },
  {
   "cell_type": "markdown",
   "metadata": {},
   "source": [
    "То есть, по итогам теста, производительность составила: <b>median_TEPS: 5.7055e+06</b>, то есть <b>0.0057055 GTEPS</b>, что в 4 раза хуже последнего (192) места в рейтинге http://www.graph500.org/results_jul_2015\n"
   ]
  },
  {
   "cell_type": "markdown",
   "metadata": {
    "collapsed": true
   },
   "source": [
    "### 3. Определение параметров графа Кронекера"
   ]
  },
  {
   "cell_type": "markdown",
   "metadata": {},
   "source": [
    "&nbsp;&nbsp;&nbsp;&nbsp;Для того, чтобы определить параметры графа, требуется сперва выписать все его рёбра. Возьмём за основу программку <b>make-edgelist</b> (компонент graph-500 reference code) и слегка её модифицируем: [make-edgelist.c](make-edgelist.c)<br>\n",
    "&nbsp;&nbsp;&nbsp;&nbsp;В результате, от исходного назначения утилиты не осталось и следа и в stdout она выводит данные в следующем формате:"
   ]
  },
  {
   "cell_type": "markdown",
   "metadata": {},
   "source": [
    "<pre>SCALE, 2^16 - 1\n",
    "v1 v2\n",
    "v3 v4\n",
    ".....</pre>"
   ]
  },
  {
   "cell_type": "markdown",
   "metadata": {},
   "source": [
    "Заметим, что при генерации графа мы будем использовать параметры: scale=10 и edge_factor=16"
   ]
  },
  {
   "cell_type": "markdown",
   "metadata": {},
   "source": [
    "<pre>./graph500-2.1.4/make-edgelist -s 10 -e 16 > graph.10-16.data</pre>"
   ]
  },
  {
   "cell_type": "markdown",
   "metadata": {},
   "source": [
    "Теперь проанализируем параметры этого графа, считав [graph.10-16.data](graph.10-16.data) для этого воспользуемся библиотекой <b>NetworkX</b>"
   ]
  },
  {
   "cell_type": "code",
   "execution_count": 1,
   "metadata": {
    "collapsed": true
   },
   "outputs": [],
   "source": [
    "import networkx as nx"
   ]
  },
  {
   "cell_type": "code",
   "execution_count": 174,
   "metadata": {
    "collapsed": true
   },
   "outputs": [],
   "source": [
    "def graph_from_file(filename):\n",
    "    DG = nx.DiGraph()\n",
    "    with open(filename, 'r') as file:\n",
    "        header = file.readline()\n",
    "        scale, N = map(int, header.strip().split())\n",
    "        # DG.add_nodes_from(range(N))\n",
    "        for line in file:\n",
    "            DG.add_edge(*map(int, line.strip().split()))\n",
    "    return DG"
   ]
  },
  {
   "cell_type": "code",
   "execution_count": 175,
   "metadata": {
    "collapsed": false
   },
   "outputs": [],
   "source": [
    "graph = graph_from_file('graph.10-16.data')"
   ]
  },
  {
   "cell_type": "code",
   "execution_count": 155,
   "metadata": {
    "collapsed": false
   },
   "outputs": [
    {
     "data": {
      "text/plain": [
       "(887, 10652)"
      ]
     },
     "execution_count": 155,
     "metadata": {},
     "output_type": "execute_result"
    }
   ],
   "source": [
    "graph.number_of_nodes(), graph.number_of_edges()"
   ]
  },
  {
   "cell_type": "markdown",
   "metadata": {},
   "source": [
    "Теперь посчитаем первую интересующую нас характеристику - диаметр графа:"
   ]
  },
  {
   "cell_type": "code",
   "execution_count": 156,
   "metadata": {
    "collapsed": false
   },
   "outputs": [
    {
     "ename": "NetworkXError",
     "evalue": "Graph not connected: infinite path length",
     "output_type": "error",
     "traceback": [
      "\u001b[1;31m---------------------------------------------------------------------------\u001b[0m",
      "\u001b[1;31mNetworkXError\u001b[0m                             Traceback (most recent call last)",
      "\u001b[1;32m<ipython-input-156-8a17a86d594e>\u001b[0m in \u001b[0;36m<module>\u001b[1;34m()\u001b[0m\n\u001b[1;32m----> 1\u001b[1;33m \u001b[0mnx\u001b[0m\u001b[1;33m.\u001b[0m\u001b[0mdiameter\u001b[0m\u001b[1;33m(\u001b[0m\u001b[0mgraph\u001b[0m\u001b[1;33m)\u001b[0m\u001b[1;33m\u001b[0m\u001b[0m\n\u001b[0m",
      "\u001b[1;32m/home/mbusel/miniconda/envs/sh-python3/lib/python3.4/site-packages/networkx/algorithms/distance_measures.py\u001b[0m in \u001b[0;36mdiameter\u001b[1;34m(G, e)\u001b[0m\n\u001b[0;32m     94\u001b[0m     \"\"\"\n\u001b[0;32m     95\u001b[0m     \u001b[1;32mif\u001b[0m \u001b[0me\u001b[0m \u001b[1;32mis\u001b[0m \u001b[1;32mNone\u001b[0m\u001b[1;33m:\u001b[0m\u001b[1;33m\u001b[0m\u001b[0m\n\u001b[1;32m---> 96\u001b[1;33m         \u001b[0me\u001b[0m\u001b[1;33m=\u001b[0m\u001b[0meccentricity\u001b[0m\u001b[1;33m(\u001b[0m\u001b[0mG\u001b[0m\u001b[1;33m)\u001b[0m\u001b[1;33m\u001b[0m\u001b[0m\n\u001b[0m\u001b[0;32m     97\u001b[0m     \u001b[1;32mreturn\u001b[0m \u001b[0mmax\u001b[0m\u001b[1;33m(\u001b[0m\u001b[0me\u001b[0m\u001b[1;33m.\u001b[0m\u001b[0mvalues\u001b[0m\u001b[1;33m(\u001b[0m\u001b[1;33m)\u001b[0m\u001b[1;33m)\u001b[0m\u001b[1;33m\u001b[0m\u001b[0m\n\u001b[0;32m     98\u001b[0m \u001b[1;33m\u001b[0m\u001b[0m\n",
      "\u001b[1;32m/home/mbusel/miniconda/envs/sh-python3/lib/python3.4/site-packages/networkx/algorithms/distance_measures.py\u001b[0m in \u001b[0;36meccentricity\u001b[1;34m(G, v, sp)\u001b[0m\n\u001b[0;32m     61\u001b[0m         \u001b[1;32mif\u001b[0m \u001b[0mL\u001b[0m \u001b[1;33m!=\u001b[0m \u001b[0morder\u001b[0m\u001b[1;33m:\u001b[0m\u001b[1;33m\u001b[0m\u001b[0m\n\u001b[0;32m     62\u001b[0m             \u001b[0mmsg\u001b[0m \u001b[1;33m=\u001b[0m \u001b[1;34m\"Graph not connected: infinite path length\"\u001b[0m\u001b[1;33m\u001b[0m\u001b[0m\n\u001b[1;32m---> 63\u001b[1;33m             \u001b[1;32mraise\u001b[0m \u001b[0mnetworkx\u001b[0m\u001b[1;33m.\u001b[0m\u001b[0mNetworkXError\u001b[0m\u001b[1;33m(\u001b[0m\u001b[0mmsg\u001b[0m\u001b[1;33m)\u001b[0m\u001b[1;33m\u001b[0m\u001b[0m\n\u001b[0m\u001b[0;32m     64\u001b[0m \u001b[1;33m\u001b[0m\u001b[0m\n\u001b[0;32m     65\u001b[0m         \u001b[0me\u001b[0m\u001b[1;33m[\u001b[0m\u001b[0mn\u001b[0m\u001b[1;33m]\u001b[0m\u001b[1;33m=\u001b[0m\u001b[0mmax\u001b[0m\u001b[1;33m(\u001b[0m\u001b[0mlength\u001b[0m\u001b[1;33m.\u001b[0m\u001b[0mvalues\u001b[0m\u001b[1;33m(\u001b[0m\u001b[1;33m)\u001b[0m\u001b[1;33m)\u001b[0m\u001b[1;33m\u001b[0m\u001b[0m\n",
      "\u001b[1;31mNetworkXError\u001b[0m: Graph not connected: infinite path length"
     ]
    }
   ],
   "source": [
    "nx.diameter(graph)"
   ]
  },
  {
   "cell_type": "markdown",
   "metadata": {},
   "source": [
    "Наш граф - несвязный! В таком случае, попробуем разбить его на компоненты свзяности. Средствами NetworkX разобьем его на слабосвязные компоненты - так получим более адекватное представление о связях в нём"
   ]
  },
  {
   "cell_type": "code",
   "execution_count": 165,
   "metadata": {
    "collapsed": false
   },
   "outputs": [
    {
     "data": {
      "text/plain": [
       "True"
      ]
     },
     "execution_count": 165,
     "metadata": {},
     "output_type": "execute_result"
    }
   ],
   "source": [
    "nx.is_weakly_connected(graph) # проверим хотя бы на слабосвязность"
   ]
  },
  {
   "cell_type": "markdown",
   "metadata": {},
   "source": [
    "Попробуем посмотреть, сколько тут сильносвязных компонент"
   ]
  },
  {
   "cell_type": "code",
   "execution_count": 158,
   "metadata": {
    "collapsed": false
   },
   "outputs": [
    {
     "data": {
      "text/plain": [
       "True"
      ]
     },
     "execution_count": 158,
     "metadata": {},
     "output_type": "execute_result"
    }
   ],
   "source": [
    "nx.number_strongly_connected_components(graph) == graph.order()"
   ]
  },
  {
   "cell_type": "markdown",
   "metadata": {},
   "source": [
    "Тогда попробуем посчитать \"Почти диаметр\" - максимальный путь != inf"
   ]
  },
  {
   "cell_type": "code",
   "execution_count": 2,
   "metadata": {
    "collapsed": true
   },
   "outputs": [],
   "source": [
    "def eccentricity_finite(G):\n",
    "    \"\"\"Return the eccentricity of nodes in G.\n",
    "\n",
    "    The eccentricity of a node v is the maximum distance from v to\n",
    "    all other nodes in G. Ignore infinite\n",
    "    \"\"\"\n",
    "    order=G.order()\n",
    "\n",
    "    e={}\n",
    "    for n in G.nbunch_iter():\n",
    "        length=nx.single_source_shortest_path_length(G,n)            \n",
    "        e[n]=max(length.values())\n",
    "    return e"
   ]
  },
  {
   "cell_type": "code",
   "execution_count": 3,
   "metadata": {
    "collapsed": true
   },
   "outputs": [],
   "source": [
    "def diameter(G):\n",
    "    return max(eccentricity_finite(G).values())"
   ]
  },
  {
   "cell_type": "code",
   "execution_count": 161,
   "metadata": {
    "collapsed": false
   },
   "outputs": [
    {
     "data": {
      "text/plain": [
       "9"
      ]
     },
     "execution_count": 161,
     "metadata": {},
     "output_type": "execute_result"
    }
   ],
   "source": [
    "diameter(graph)"
   ]
  },
  {
   "cell_type": "markdown",
   "metadata": {},
   "source": [
    "Аналогично посчитаем среднее расстояние между вершинами"
   ]
  },
  {
   "cell_type": "code",
   "execution_count": 4,
   "metadata": {
    "collapsed": false
   },
   "outputs": [],
   "source": [
    "def avg_path_len(G):\n",
    "    numOfPath = 0\n",
    "    sumPathLen = 0\n",
    "    for n in G.nbunch_iter():\n",
    "        length = nx.single_source_shortest_path_length(G,n)            \n",
    "        sumPathLen += sum(list((length.values())))\n",
    "        numOfPath += len(length)\n",
    "    return float(sumPathLen) / numOfPath"
   ]
  },
  {
   "cell_type": "code",
   "execution_count": 164,
   "metadata": {
    "collapsed": false
   },
   "outputs": [
    {
     "data": {
      "text/plain": [
       "2.5147304750044475"
      ]
     },
     "execution_count": 164,
     "metadata": {},
     "output_type": "execute_result"
    }
   ],
   "source": [
    "avg_path_len(graph)"
   ]
  },
  {
   "cell_type": "markdown",
   "metadata": {},
   "source": [
    "И построим гистограмму #(n,d)"
   ]
  },
  {
   "cell_type": "code",
   "execution_count": 172,
   "metadata": {
    "collapsed": false
   },
   "outputs": [],
   "source": [
    "from collections import Counter\n",
    "import pylab\n",
    "import operator\n",
    "\n",
    "def printGraphDegreeDistribution(gr):\n",
    "    cnt = Counter()\n",
    "    for v in gr.degree().values():\n",
    "        cnt[v] += 1\n",
    "    #sorted_cnt = sorted(cnt.items(), key=operator.itemgetter(0))\n",
    "    max_degree = max(list(cnt.keys()))\n",
    "    out_bins = []\n",
    "    out_values = []\n",
    "    for i in range(1, max_degree + 1):\n",
    "        out_bins.append(i)\n",
    "        out_values.append(cnt[i])\n",
    "    pylab.plot(out_bins, out_values)\n",
    "    pylab.xlabel('degree')\n",
    "    pylab.ylabel('number')\n",
    "    pylab.xticks(range(1, max_degree + 1, 9))"
   ]
  },
  {
   "cell_type": "code",
   "execution_count": 173,
   "metadata": {
    "collapsed": false
   },
   "outputs": [
    {
     "name": "stdout",
     "output_type": "stream",
     "text": [
      "Populating the interactive namespace from numpy and matplotlib\n"
     ]
    },
    {
     "name": "stderr",
     "output_type": "stream",
     "text": [
      "WARNING: pylab import has clobbered these variables: ['pylab', 'random']\n",
      "`%matplotlib` prevents importing * from pylab and numpy\n"
     ]
    }
   ],
   "source": [
    "%pylab inline"
   ]
  },
  {
   "cell_type": "code",
   "execution_count": 176,
   "metadata": {
    "collapsed": false
   },
   "outputs": [
    {
     "data": {
      "image/png": "[encoded data removed]",
      "text/plain": [
       "<matplotlib.figure.Figure at 0x7f8027a68b70>"
      ]
     },
     "metadata": {},
     "output_type": "display_data"
    }
   ],
   "source": [
    "from pylab import rcParams\n",
    "rcParams['figure.figsize'] = 20, 5\n",
    "\n",
    "printGraphDegreeDistribution(graph)"
   ]
  },
  {
   "cell_type": "markdown",
   "metadata": {},
   "source": [
    "По данному графику можно увидеть, что большинство связей имеют небольшую длину, что совпадает с мнением об адекватности использования графа кронекера для иллюстрации социальных связей"
   ]
  },
  {
   "cell_type": "markdown",
   "metadata": {},
   "source": [
    "Более точно, получив параметры модели, мы узнали, что <br>а) наш граф имеет рапределение степеней вершин по закону, вполне похожем на степенной<br>\n",
    "б) То есть, несмотря на исключительную разреженность, диаметр графа(не учитывая недостижимые вершины) = 9 <br>в) Средняя длина пути между вершинами - всего 2.5147304750044475 (опять же, исключая недостижимые). При этом, весь наш граф - есть одна компонента связности"
   ]
  },
  {
   "cell_type": "markdown",
   "metadata": {},
   "source": [
    "Как выяснилось, на самом деле, граф стоит рассматривать как неориентированный - это сильно упрощает жизнь и даёт менее смещённые результаты (по крайней мере что касается диаметра, средней длины и расчёта средней длины пути)"
   ]
  },
  {
   "cell_type": "code",
   "execution_count": 167,
   "metadata": {
    "collapsed": true
   },
   "outputs": [],
   "source": [
    "def undir_graph_from_file(filename):\n",
    "    G = nx.Graph()\n",
    "    with open(filename, 'r') as file:\n",
    "        header = file.readline()\n",
    "        scale, N = map(int, header.strip().split())\n",
    "        # DG.add_nodes_from(range(N))\n",
    "        for line in file:\n",
    "            G.add_edge(*map(int, line.strip().split()))\n",
    "    return G"
   ]
  },
  {
   "cell_type": "code",
   "execution_count": 169,
   "metadata": {
    "collapsed": false
   },
   "outputs": [],
   "source": [
    "undir_graph = undir_graph_from_file('graph.10-16.data')"
   ]
  },
  {
   "cell_type": "markdown",
   "metadata": {},
   "source": [
    "Поскольку направленный граф - слабосвязный, то ненаправленный будет связным"
   ]
  },
  {
   "cell_type": "code",
   "execution_count": 170,
   "metadata": {
    "collapsed": false
   },
   "outputs": [
    {
     "data": {
      "text/plain": [
       "5"
      ]
     },
     "execution_count": 170,
     "metadata": {},
     "output_type": "execute_result"
    }
   ],
   "source": [
    "nx.diameter(undir_graph)"
   ]
  },
  {
   "cell_type": "markdown",
   "metadata": {},
   "source": [
    "5 - число, куда более подходящее по теорему о 6 рукопожатиях!"
   ]
  },
  {
   "cell_type": "code",
   "execution_count": 173,
   "metadata": {
    "collapsed": false
   },
   "outputs": [
    {
     "data": {
      "text/plain": [
       "2.421102000714314"
      ]
     },
     "execution_count": 173,
     "metadata": {},
     "output_type": "execute_result"
    }
   ],
   "source": [
    "avg_path_len(undir_graph) # средняя длина пути по прежнему ~ такая же"
   ]
  },
  {
   "cell_type": "code",
   "execution_count": 175,
   "metadata": {
    "collapsed": false
   },
   "outputs": [
    {
     "data": {
      "image/png": "[encoded data removed]",
      "text/plain": [
       "<matplotlib.figure.Figure at 0x7f27c98d2080>"
      ]
     },
     "metadata": {},
     "output_type": "display_data"
    }
   ],
   "source": [
    "printGraphDegreeDistribution(undir_graph)"
   ]
  },
  {
   "cell_type": "markdown",
   "metadata": {},
   "source": [
    "Распредение степеней такое же - т.к для оргргафа в качестве степени бралась deg(in) + deg(out)"
   ]
  },
  {
   "cell_type": "markdown",
   "metadata": {},
   "source": [
    "### 4. Генерация и определение параметров графа в модели Боллобаша-Риордана"
   ]
  },
  {
   "cell_type": "markdown",
   "metadata": {},
   "source": [
    "Сначала напишем функцию генерации графа, а затем с помощью вышерассмотренных методов проанализируем его параметры"
   ]
  },
  {
   "cell_type": "code",
   "execution_count": 121,
   "metadata": {
    "collapsed": false
   },
   "outputs": [],
   "source": [
    "import random\n",
    "from itertools import chain\n",
    "\n",
    "def gen_graph(n, m):\n",
    "    def gen_m1(n):\n",
    "        def extend_m1(g, vn):\n",
    "            acc = 0\n",
    "            rand = random.random()\n",
    "            lst = [(vn, 1.0)]\n",
    "            lst.extend(g.degree().items())\n",
    "            for nodeId, deg in lst:\n",
    "                acc += float(deg)/(2*vn-1)\n",
    "                if (rand < acc):\n",
    "                    ov = nodeId\n",
    "                    break\n",
    "            g.add_edge(vn, ov)\n",
    "            return g\n",
    "        G = nx.Graph()\n",
    "        for vn in range(1, n + 1):\n",
    "            G = extend_m1(G, vn)\n",
    "        return G\n",
    "    g = gen_m1(n*m)\n",
    "    #now it's time to unite g!\n",
    "    G = nx.Graph()\n",
    "    for node in range(1, n*m + 1, m):\n",
    "        bunch = range(node, node + m)\n",
    "        bunch_edges = list(\n",
    "            filter(lambda x: x[0] in bunch or x[1] in bunch,\n",
    "            g.edges()))\n",
    "        bunch_edges = [x[0] if x[0] not in bunch else x[1] for x in bunch_edges]\n",
    "        bunch_edges = tuple(bunch_edges)\n",
    "        bunch = tuple(bunch)\n",
    "        G.add_node(bunch)\n",
    "        for G_node in G.nodes():\n",
    "            tmp = [_ for _ in G_node if _ in bunch_edges]\n",
    "            if len(tmp) > 0:\n",
    "                G.add_edge(bunch, G_node)\n",
    "    return G"
   ]
  },
  {
   "cell_type": "code",
   "execution_count": 124,
   "metadata": {
    "collapsed": false
   },
   "outputs": [],
   "source": [
    "g1000_10 = gen_graph(1000,10)"
   ]
  },
  {
   "cell_type": "code",
   "execution_count": 136,
   "metadata": {
    "collapsed": true
   },
   "outputs": [],
   "source": [
    "g100_100 = gen_graph(100,100)"
   ]
  },
  {
   "cell_type": "code",
   "execution_count": 137,
   "metadata": {
    "collapsed": false
   },
   "outputs": [],
   "source": [
    "g500_20 = gen_graph(500,20)"
   ]
  },
  {
   "cell_type": "code",
   "execution_count": 123,
   "metadata": {
    "collapsed": true
   },
   "outputs": [],
   "source": [
    "g_10000_1 = gen_graph(10000, 1)"
   ]
  },
  {
   "cell_type": "code",
   "execution_count": 138,
   "metadata": {
    "collapsed": true
   },
   "outputs": [],
   "source": [
    "g_1000_1 = gen_graph(1000, 1)"
   ]
  },
  {
   "cell_type": "markdown",
   "metadata": {},
   "source": [
    "Отмечу пару нюансов<br>\n",
    "а) В ходе попыток написания генератора, я столкнулся с тем, что не знаю как (на первом этапе), добавлять вершину быстрее, чем за линию. В этом варианте, даже банальное (без второй фазы) g(10000, 1) - мой предел по порядку, т.к. g(10^5, 1) считается непозволительно долго<br>\n",
    "б) в связи с этим, я ограничен n\\*m = 10000<br>\n",
    "в) после неуспеха с первым этапом, оптимизацией второго я не занимался в принципе - поэтому там, наверное, просто дикая сложность<br>\n",
    "г) при расчёте средней длины пути некоторое смещение будут давать петли (из графа кронекера я их удалял), интересно посмотреть насколько отличается средняя длина в случаях учёта и неучёта петель (распределение степеней будет неизменным, если убрать дуги - просто степень некоторых вершин уменьшится на 2, что будет практически незаметно на графике)"
   ]
  },
  {
   "cell_type": "markdown",
   "metadata": {},
   "source": [
    "P.S. На этом этапе выяснилось, что считать статистику по графу на 10к вершин слишком накладно, от варианта потестировать g(10000,1) вершин пришлось отказаться, попробуем вместо него что-то в духе g(1000,2)/g(1000,4) - потому что для g(1000,1) результаты, в целом, интересные"
   ]
  },
  {
   "cell_type": "code",
   "execution_count": 131,
   "metadata": {
    "collapsed": false
   },
   "outputs": [],
   "source": [
    "def remove_loops(G):\n",
    "    copy = nx.Graph()\n",
    "    copy.add_nodes_from(G.nodes())\n",
    "    copy.add_edges_from([_ for _ in G.edges() if _[0] != _[1]])\n",
    "    return copy"
   ]
  },
  {
   "cell_type": "code",
   "execution_count": 141,
   "metadata": {
    "collapsed": false
   },
   "outputs": [],
   "source": [
    "g1000_10_nl = remove_loops(g1000_10)\n",
    "g100_100_nl = remove_loops(g100_100)\n",
    "g500_20_nl = remove_loops(g500_20)\n",
    "g_10000_1_nl = remove_loops(g_10000_1)\n",
    "g_1000_1_nl = remove_loops(g_1000_1)"
   ]
  },
  {
   "cell_type": "code",
   "execution_count": 150,
   "metadata": {
    "collapsed": true
   },
   "outputs": [],
   "source": [
    "g1000_2 = gen_graph(1000,2)\n",
    "g_1000_2_nl = remove_loops(g1000_2)"
   ]
  },
  {
   "cell_type": "code",
   "execution_count": 158,
   "metadata": {
    "collapsed": true
   },
   "outputs": [],
   "source": [
    "g1000_4 = gen_graph(1000,4)\n",
    "g_1000_4_nl = remove_loops(g1000_4)"
   ]
  },
  {
   "cell_type": "code",
   "execution_count": 161,
   "metadata": {
    "collapsed": false
   },
   "outputs": [],
   "source": [
    "with_loops = [('g1000_10', g1000_10),\n",
    "              ('g100_100', g100_100),\n",
    "              ('g500_20', g500_20),\n",
    "              ('g_1000_1', g_1000_1),\n",
    "              ('g_1000_2', g1000_2),\n",
    "              ('g_1000_4', g1000_4)\n",
    "             ]"
   ]
  },
  {
   "cell_type": "code",
   "execution_count": 163,
   "metadata": {
    "collapsed": false
   },
   "outputs": [],
   "source": [
    "no_loops = [('g1000_10_nl', g1000_10_nl),\n",
    "            ('g100_100_nl', g100_100_nl),\n",
    "            ('g500_20_nl', g500_20_nl),\n",
    "            ('g_1000_1_nl', g_1000_1_nl),\n",
    "            ('g_1000_2_nl', g_1000_2_nl),\n",
    "            ('g_1000_4_nl', g_1000_4_nl)\n",
    "           ]"
   ]
  },
  {
   "cell_type": "code",
   "execution_count": 164,
   "metadata": {
    "collapsed": false
   },
   "outputs": [
    {
     "name": "stdout",
     "output_type": "stream",
     "text": [
      "g1000_10 is connected: True\n",
      "g1000_10 diameter is: 4\n",
      "g100_100 is connected: True\n",
      "g100_100 diameter is: 2\n",
      "g500_20 is connected: True\n",
      "g500_20 diameter is: 3\n",
      "g_1000_1 is connected: False\n",
      "g_1000_1 diameter is: 15\n",
      "g_1000_2 is connected: True\n",
      "g_1000_2 diameter is: 8\n",
      "g_1000_4 is connected: True\n",
      "g_1000_4 diameter is: 5\n"
     ]
    }
   ],
   "source": [
    "for name, graph in with_loops:\n",
    "    print('{} is connected: {}'.format(name, nx.is_connected(graph)))\n",
    "    print('{} diameter is: {}'.format(name, diameter(graph)))"
   ]
  },
  {
   "cell_type": "markdown",
   "metadata": {},
   "source": [
    "Забавный факт! Если m = 1, то действительно, граф может быть несвязным, и модель в плане диаметра сильно выбивается от стандарта в \"6 рукопожатий\", с другой стороны, на таком, не очень большом графе ( не более 1000 вершинок ), можно добиться нормальных результатов, просто сгруппировав вершинки по 4 (по 2 тоже неплохо, но ещё не дотягивает до 6). Уменьшение отношения n / m даёт ещё меньшие значения для диаметра. В целом, думаю, что отношение n / m ~ 250 -наиболее удачно. Ради интереса, посмотрим на граф g(500,2)"
   ]
  },
  {
   "cell_type": "code",
   "execution_count": 167,
   "metadata": {
    "collapsed": false
   },
   "outputs": [
    {
     "name": "stdout",
     "output_type": "stream",
     "text": [
      "g500_2 is connected: True\n",
      "g500_2 diameter: 5\n"
     ]
    }
   ],
   "source": [
    "g500_2 = gen_graph(1000,4)\n",
    "print('g500_2 is connected: {}'.format(nx.is_connected(g500_2)))\n",
    "print('g500_2 diameter: {}'.format(diameter(g500_2)))"
   ]
  },
  {
   "cell_type": "markdown",
   "metadata": {},
   "source": [
    "Действительно, диаметр остался прежним! Успех! Сравним теперь среднюю длину путей в графах с петлями и без них"
   ]
  },
  {
   "cell_type": "code",
   "execution_count": 168,
   "metadata": {
    "collapsed": false
   },
   "outputs": [
    {
     "name": "stdout",
     "output_type": "stream",
     "text": [
      "g1000_10 avg path len = 2.450884 and g1000_10_nl avg path len = 2.450884\n",
      "g100_100 avg path len = 1.2844 and g100_100_nl avg path len = 1.2844\n",
      "g500_20 avg path len = 1.971032 and g500_20_nl avg path len = 1.971032\n",
      "g_1000_1 avg path len = 5.572662167339601 and g_1000_1_nl avg path len = 5.572662167339601\n",
      "g_1000_2 avg path len = 4.12196 and g_1000_2_nl avg path len = 4.12196\n",
      "g_1000_4 avg path len = 3.14933 and g_1000_4_nl avg path len = 3.14933\n"
     ]
    }
   ],
   "source": [
    "for wl, wol in zip(with_loops, no_loops):\n",
    "    print('{} avg path len = {} and {} avg path len = {}'.format(\n",
    "        wl[0], avg_path_len(wl[1]), wol[0], avg_path_len(wol[1])))"
   ]
  },
  {
   "cell_type": "markdown",
   "metadata": {},
   "source": [
    "Никакой разницы и нет. Видимо, дело в том, что я всё же слегка неправильно интерпретировал работу функции поиска кратчайших путей до вершин в своих предварительных тестах + результаты весьма похожи на то что мы видели в графе Кронекера"
   ]
  },
  {
   "cell_type": "markdown",
   "metadata": {},
   "source": [
    "Ну и распечатаем графики распределений чтобы на них полюбоваться!"
   ]
  },
  {
   "cell_type": "code",
   "execution_count": 181,
   "metadata": {
    "collapsed": true
   },
   "outputs": [],
   "source": [
    "def printGraphDegreeDistribution_modified(gr):\n",
    "    cnt = Counter()\n",
    "    for v in gr.degree().values():\n",
    "        cnt[v] += 1\n",
    "    #sorted_cnt = sorted(cnt.items(), key=operator.itemgetter(0))\n",
    "    max_degree = 123 # for experiment :)\n",
    "    out_bins = []\n",
    "    out_values = []\n",
    "    for i in range(1, max_degree + 1):\n",
    "        out_bins.append(i)\n",
    "        out_values.append(cnt[i])\n",
    "    pylab.plot(out_bins, out_values)\n",
    "    pylab.xlabel('degree')\n",
    "    pylab.ylabel('number')\n",
    "    pylab.xticks(range(1, max_degree + 1, 9))\n",
    "    "
   ]
  },
  {
   "cell_type": "code",
   "execution_count": 183,
   "metadata": {
    "collapsed": false
   },
   "outputs": [
    {
     "data": {
      "text/plain": [
       "<matplotlib.legend.Legend at 0x7f8025bfcb70>"
      ]
     },
     "execution_count": 183,
     "metadata": {},
     "output_type": "execute_result"
    },
    {
     "data": {
      "image/png": "[encoded data removed]",
      "text/plain": [
       "<matplotlib.figure.Figure at 0x7f802712fe10>"
      ]
     },
     "metadata": {},
     "output_type": "display_data"
    }
   ],
   "source": [
    "for name, graph in no_loops:\n",
    "    printGraphDegreeDistribution_modified(graph)\n",
    "pyplot.legend(list(map(lambda x: x[0], no_loops)))"
   ]
  },
  {
   "cell_type": "markdown",
   "metadata": {},
   "source": [
    "&nbsp;&nbsp;&nbsp;&nbsp;Я слегка обрезал графи (т.к были вершины с очень большой степенью - хабы, которых было очень мало и это было практически незаметно на графике). В общем и целом видно, что степенной закон распределения степеней вершин выполняется. Напоследок выведем максимальную степень вершины в графах и отношение количества вершин со степенью > 20 ко всему числу вершин в графе  <br>\n",
    "&nbsp;&nbsp;&nbsp;&nbsp;У всех графов тут (как и у Кронекера), есть небольшой мини-пик в районе 5-10, не совсем понимаю, чем такое объяснить"
   ]
  },
  {
   "cell_type": "code",
   "execution_count": 187,
   "metadata": {
    "collapsed": false
   },
   "outputs": [
    {
     "name": "stdout",
     "output_type": "stream",
     "text": [
      "for g1000_10_nl max degree = 129\n",
      "for g100_100_nl max degree = 129\n",
      "for g500_20_nl max degree = 129\n",
      "for g_1000_1_nl max degree = 129\n",
      "for g_1000_2_nl max degree = 129\n",
      "for g_1000_4_nl max degree = 129\n"
     ]
    }
   ],
   "source": [
    "for name, g in no_loops:\n",
    "    print('for {} max degree = {}'.format(\n",
    "        name, max(graph.degree().values())))"
   ]
  },
  {
   "cell_type": "markdown",
   "metadata": {},
   "source": [
    "Вот это совпадение о_О"
   ]
  },
  {
   "cell_type": "code",
   "execution_count": 192,
   "metadata": {
    "collapsed": false
   },
   "outputs": [
    {
     "data": {
      "text/plain": [
       "0.035"
      ]
     },
     "execution_count": 192,
     "metadata": {},
     "output_type": "execute_result"
    }
   ],
   "source": [
    "float(len([_ for _ in g_1000_4_nl.degree().values() if _ > 20])) / g_1000_4_nl.order()"
   ]
  },
  {
   "cell_type": "markdown",
   "metadata": {},
   "source": [
    "Всего 3.5%. Думаю, этого вполне достаточно, чтобы заключить, что данная модель хорошо подходит для описания графа интернета"
   ]
  },
  {
   "cell_type": "code",
   "execution_count": null,
   "metadata": {
    "collapsed": true
   },
   "outputs": [],
   "source": []
  }
 ],
 "metadata": {
  "kernelspec": {
   "display_name": "Python 3",
   "language": "python",
   "name": "python3"
  },
  "language_info": {
   "codemirror_mode": {
    "name": "ipython",
    "version": 3
   },
   "file_extension": ".py",
   "mimetype": "text/x-python",
   "name": "python",
   "nbconvert_exporter": "python",
   "pygments_lexer": "ipython3",
   "version": "3.4.3"
  }
 },
 "nbformat": 4,
 "nbformat_minor": 0
}
