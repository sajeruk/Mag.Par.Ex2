{
 "cells": [
  {
   "cell_type": "markdown",
   "metadata": {},
   "source": [
    "###   1.Анализ производительности graph-500 на локальной машине\n"
   ]
  },
  {
   "cell_type": "markdown",
   "metadata": {},
   "source": [
    "Определимся сначала с параметрами теста. В ходе предварительных запусков, оказалось, что на локальной машинке с 4 процессорами увеличение SСALE приводит к колоссальному увеличению времени работы (т.е. для 26 16 - всего лишь Toy размер, дождаться окончания хоть одной итерации не удалось). В итоге, я остановился на стандартном размере SCALE:16 EDGEFACTOR:16 и запускал mpi-версию в 4 потока:<br/>\n",
    "&nbsp;&nbsp;&nbsp;&nbsp;<b>mpi-run -np 4 ./graph500_mpi_simple 16 16</b><br>\n",
    "В результате, по итогам 64 итераций:"
   ]
  },
  {
   "cell_type": "raw",
   "metadata": {},
   "source": [
    "SCALE:                          16\n",
    "edgefactor:                     16\n",
    "NBFS:                           64\n",
    "graph_generation:               0.546302\n",
    "num_mpi_processes:              4\n",
    "construction_time:              0.144039\n",
    "min_time:                       0.147475\n",
    "firstquartile_time:             0.179075\n",
    "median_time:                    0.183782\n",
    "thirdquartile_time:             0.188256\n",
    "max_time:                       0.232297\n",
    "mean_time:                      0.183914\n",
    "stddev_time:                    0.0144824\n",
    "min_nedge:                      1048570\n",
    "firstquartile_nedge:            1048570\n",
    "median_nedge:                   1048570\n",
    "thirdquartile_nedge:            1048570\n",
    "max_nedge:                      1048570\n",
    "mean_nedge:                     1048570\n",
    "stddev_nedge:                   0\n",
    "min_TEPS:                       4.51393e+06\n",
    "firstquartile_TEPS:             5.56993e+06\n",
    "median_TEPS:                    5.7055e+06\n",
    "thirdquartile_TEPS:             5.85547e+06\n",
    "max_TEPS:                       7.11013e+06\n",
    "harmonic_mean_TEPS:             5.70142e+06\n",
    "harmonic_stddev_TEPS:           56563.9\n",
    "min_validate:                   3.30918\n",
    "firstquartile_validate:         3.99619\n",
    "median_validate:                4.10362\n",
    "thirdquartile_validate:         4.21789\n",
    "max_validate:                   4.51817\n",
    "mean_validate:                  4.08953\n",
    "stddev_validate:                0.234609\n"
   ]
  },
  {
   "cell_type": "markdown",
   "metadata": {},
   "source": [
    "То есть, по итогам теста, производительность составила: <b>median_TEPS: 5.7055e+06</b>, то есть <b>0.0057055 GTEPS</b>, что в 4 раза хуже последнего (192) места в рейтинге http://www.graph500.org/results_jul_2015\n"
   ]
  },
  {
   "cell_type": "code",
   "execution_count": null,
   "metadata": {
    "collapsed": true
   },
   "outputs": [],
   "source": []
  }
 ],
 "metadata": {
  "kernelspec": {
   "display_name": "Python 3",
   "language": "python",
   "name": "python3"
  },
  "language_info": {
   "codemirror_mode": {
    "name": "ipython",
    "version": 3
   },
   "file_extension": ".py",
   "mimetype": "text/x-python",
   "name": "python",
   "nbconvert_exporter": "python",
   "pygments_lexer": "ipython3",
   "version": "3.4.3"
  }
 },
 "nbformat": 4,
 "nbformat_minor": 0
}
